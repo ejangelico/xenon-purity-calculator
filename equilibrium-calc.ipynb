{
 "cells": [
  {
   "cell_type": "code",
   "execution_count": 1,
   "metadata": {},
   "outputs": [],
   "source": [
    "import numpy as np\n",
    "import matplotlib.pyplot as plt \n",
    "import sys\n",
    "import pandas as pd \n",
    "import TPC\n",
    "import matplotlib.colors as colors\n",
    "\n",
    "plt.style.use('~/evanstyle.mplstyle')"
   ]
  },
  {
   "cell_type": "code",
   "execution_count": null,
   "metadata": {},
   "outputs": [],
   "source": [
    "total_mass = 5000\n",
    "\n",
    "tpc = TPC.TPC(total_mass, 125, 125)\n",
    "\n",
    "recirc_rate = 30 #SLPM\n",
    "reecirc_rate = \n",
    "ogas = 1e-7 #mols/hour \n",
    "eps = 1\n",
    "f = 1\n",
    "x0 = 100e-9 #not ppb, fraction\n",
    "recirc_t = 9 #hours\n",
    "total_t = 80 #hours\n",
    "\n",
    "fig, ax = plt.subplots()\n",
    "\n",
    "for rt in np.linspace(9, 48, 4):\n",
    "    ts, xs, taus = tpc.get_purity_curve(recirc_rate, ogas, eps, f, x0, rt, total_t)\n",
    "    ax.plot(ts, xs)\n",
    "\n",
    "\n",
    "ax.axvline(tpc.get_recirc_time(recirc_rate))\n",
    "\n",
    "axt = ax.secondary_yaxis('right')\n",
    "axt.set_yticks(ax.get_yticks()) \n",
    "axt.set_yticklabels([Text(0, yval, f'{t.getTau(yval):.1f}') for yval in ax.get_yticks()])\n",
    "\n",
    "ax.set_ylabel(\"mole fraction (ppb)\")\n",
    "ax.set_xlabel(\"time (hours)\")\n",
    "axt.set_ylabel(\"Electron lifetime (us)\")\n",
    "ax.set_title(\"{:.1f} g/min, outgassing {:.0e} mols/hour, initial impurity {:.0f} ppb\".format(recirc_rate, ogas, x0*1e9))\n",
    "plt.show()"
   ]
  }
 ],
 "metadata": {
  "kernelspec": {
   "display_name": "llnl",
   "language": "python",
   "name": "python3"
  },
  "language_info": {
   "codemirror_mode": {
    "name": "ipython",
    "version": 3
   },
   "file_extension": ".py",
   "mimetype": "text/x-python",
   "name": "python",
   "nbconvert_exporter": "python",
   "pygments_lexer": "ipython3",
   "version": "3.11.6"
  }
 },
 "nbformat": 4,
 "nbformat_minor": 2
}
